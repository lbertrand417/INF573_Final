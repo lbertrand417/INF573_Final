{
 "cells": [
  {
   "cell_type": "code",
   "execution_count": 1,
   "metadata": {},
   "outputs": [],
   "source": [
    "import cv2\n",
    "import mediapipe as mp"
   ]
  },
  {
   "cell_type": "code",
   "execution_count": 2,
   "metadata": {},
   "outputs": [],
   "source": [
    "# Video\n",
    "cap = cv2.VideoCapture(\"data/video.mp4\")"
   ]
  },
  {
   "cell_type": "code",
   "execution_count": 3,
   "metadata": {},
   "outputs": [],
   "source": [
    "\n",
    "while True:\n",
    "    # Image\n",
    "    ret, image = cap.read()\n",
    "    if ret is not True:\n",
    "        cv2.waitKey(0)\n",
    "        break\n",
    "    height, width, _ = image.shape\n",
    "    rgb_image = cv2.cvtColor(image, cv2.COLOR_BGR2RGB)\n",
    "    \n",
    "    # Face mesh\n",
    "    mp_face_mesh = mp.solutions.face_mesh\n",
    "    face_mesh = mp_face_mesh.FaceMesh()\n",
    "\n",
    "    # Facial landmarks\n",
    "    result = face_mesh.process(rgb_image)\n",
    "\n",
    "    for facial_landmarks in result.multi_face_landmarks:\n",
    "        for i in range (len(facial_landmarks.landmark)):\n",
    "            pt1 = facial_landmarks.landmark[i]\n",
    "            x = int(pt1.x * width)\n",
    "            y = int(pt1.y * height)\n",
    "\n",
    "            cv2.circle(image, (x, y), 2, (100, 100, 0), -1)\n",
    "            #cv2.putText(image, str(i), (x, y), 0, 1, (0, 0, 0))\n",
    "\n",
    "    cv2.imshow(\"Image\", image)\n",
    "    cv2.waitKey(1)\n"
   ]
  },
  {
   "cell_type": "code",
   "execution_count": null,
   "metadata": {},
   "outputs": [],
   "source": []
  },
  {
   "cell_type": "code",
   "execution_count": null,
   "metadata": {
    "scrolled": false
   },
   "outputs": [],
   "source": []
  },
  {
   "cell_type": "code",
   "execution_count": null,
   "metadata": {},
   "outputs": [],
   "source": []
  }
 ],
 "metadata": {
  "kernelspec": {
   "display_name": "Python 3 (ipykernel)",
   "language": "python",
   "name": "python3"
  },
  "language_info": {
   "codemirror_mode": {
    "name": "ipython",
    "version": 3
   },
   "file_extension": ".py",
   "mimetype": "text/x-python",
   "name": "python",
   "nbconvert_exporter": "python",
   "pygments_lexer": "ipython3",
   "version": "3.8.8"
  }
 },
 "nbformat": 4,
 "nbformat_minor": 4
}
