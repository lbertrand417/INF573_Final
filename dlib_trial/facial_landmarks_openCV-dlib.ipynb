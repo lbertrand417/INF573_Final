{
 "cells": [
  {
   "cell_type": "code",
   "execution_count": null,
   "id": "133ddc38",
   "metadata": {},
   "outputs": [],
   "source": [
    "# import necessary libraries\n",
    "import cv2\n",
    "import dlib\n",
    "import numpy as np\n",
    "from matplotlib import pyplot as plt\n",
    "%matplotlib inline"
   ]
  },
  {
   "cell_type": "code",
   "execution_count": null,
   "id": "4addc392",
   "metadata": {},
   "outputs": [],
   "source": [
    "# Plot a multiple images with titles.\n",
    "\n",
    "# Parameters\n",
    "# ----------\n",
    "# images : image list\n",
    "# titles : title list\n",
    "# ncols : number of columns of subplots wanted in the display\n",
    "# nrows : number of rows of subplots wanted in the figure\n",
    "def imshow(images, titles, nrows = 0, ncols=0, figsize = (15,20)):\n",
    "    if ncols == 0 and nrows == 0:\n",
    "        ncols = len(images)\n",
    "        nrows = 1\n",
    "    if ncols == 0:\n",
    "        ncols = len(images) // nrows\n",
    "    if nrows == 0:\n",
    "        nrows = len(images) // ncols\n",
    "\n",
    "    fig, axeslist = plt.subplots(ncols=ncols, nrows=nrows, squeeze=False, figsize = figsize)\n",
    "    for i, image in enumerate(images):\n",
    "        axeslist.ravel()[i].imshow(image, cmap=plt.gray(), vmin=0, vmax=255)\n",
    "        axeslist.ravel()[i].set_title(titles[i])\n",
    "        axeslist.ravel()[i].set_axis_off()\n",
    "    plt.tight_layout() # optional\n",
    "    fig.show()"
   ]
  },
  {
   "cell_type": "code",
   "execution_count": null,
   "id": "4a69d266",
   "metadata": {},
   "outputs": [],
   "source": [
    "# read in image and display\n",
    "img = cv2.imread('data/img1_headshot.jpg')\n",
    "# img = cv2.resize(img, (0, 0), None, 0.5, 0.5)\n",
    "imgOriginal = img.copy()\n",
    "\n",
    "#Show the image with matplotlib\n",
    "plt.imshow(img)\n",
    "plt.show()"
   ]
  }
 ],
 "metadata": {
  "kernelspec": {
   "display_name": "Python 3 (ipykernel)",
   "language": "python",
   "name": "python3"
  },
  "language_info": {
   "codemirror_mode": {
    "name": "ipython",
    "version": 3
   },
   "file_extension": ".py",
   "mimetype": "text/x-python",
   "name": "python",
   "nbconvert_exporter": "python",
   "pygments_lexer": "ipython3",
   "version": "3.8.8"
  }
 },
 "nbformat": 4,
 "nbformat_minor": 5
}
